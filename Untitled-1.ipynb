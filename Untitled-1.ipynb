{
 "cells": [
  {
   "cell_type": "code",
   "execution_count": null,
   "id": "6515a9bf",
   "metadata": {},
   "outputs": [],
   "source": [
    "# Testierrrrr\n",
    "print(\"Hola Amigos\")"
   ]
  }
 ],
 "metadata": {
  "language_info": {
   "name": "python"
  }
 },
 "nbformat": 4,
 "nbformat_minor": 5
}
