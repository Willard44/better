{
 "cells": [
  {
   "cell_type": "code",
   "execution_count": null,
   "id": "6515a9bf",
   "metadata": {},
   "outputs": [],
   "source": [
    "\n",
    "Import matplotlib as plt\n",
    "x = [1, 2, 3, 4, 5]\n",
    "y = [1, 4, 9, 16, 25]\n",
    "plt.scatter(x, y)\n",
    "\n",
    "# Testierrrrr\n",
    "print(\"Hola Amigos\")"
   ]
  }
 ],
 "metadata": {
  "kernelspec": {
   "display_name": ".venv",
   "language": "python",
   "name": "python3"
  },
  "language_info": {
   "name": "python",
   "version": "3.13.2"
  }
 },
 "nbformat": 4,
 "nbformat_minor": 5
}
